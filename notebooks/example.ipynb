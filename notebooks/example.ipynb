{
 "cells": [
  {
   "cell_type": "code",
   "execution_count": 1,
   "source": [
    "# Import necessary resources\r\n",
    "import os\r\n",
    "import sys\r\n",
    "import inspect\r\n",
    "import numpy as np\r\n",
    "import torch\r\n",
    "import torch.optim as optim\r\n",
    "import matplotlib.pyplot as plt\r\n",
    "%matplotlib inline\r\n",
    "\r\n",
    "\r\n",
    "currentdir = os.path.dirname(os.path.abspath(inspect.getfile(inspect.currentframe())))\r\n",
    "parentdir = os.path.dirname(currentdir)\r\n",
    "sys.path.insert(0, os.path.join(parentdir, 'scripts'))\r\n",
    "\r\n",
    "import models as m\r\n",
    "import utils"
   ],
   "outputs": [],
   "metadata": {}
  },
  {
   "cell_type": "code",
   "execution_count": 2,
   "source": [
    "# Define sample problem\r\n",
    "# Initial condition\r\n",
    "f_0 = 1\r\n",
    "\r\n",
    "# differential equation\r\n",
    "def f(x):\r\n",
    "    return 2*x"
   ],
   "outputs": [],
   "metadata": {}
  },
  {
   "cell_type": "code",
   "execution_count": 3,
   "source": [
    "x = torch.linspace(0, 1, 50, requires_grad=True).unsqueeze(1)"
   ],
   "outputs": [],
   "metadata": {}
  },
  {
   "cell_type": "code",
   "execution_count": 4,
   "source": [
    "learning_rate = 0.001\r\n",
    "epochs = 10000\r\n",
    "display_step = 1000\r\n",
    "\r\n",
    "# Define NN\r\n",
    "neural_network = m.MLP()\r\n",
    "\r\n",
    "# Create optimizer\r\n",
    "optimizer = optim.Adam(neural_network.parameters(), lr=learning_rate)\r\n",
    "\r\n",
    "for epoch in range(epochs):\r\n",
    "    optimizer.zero_grad()\r\n",
    "    loss = utils.first_order_loss(neural_network, f, f_0)\r\n",
    "    loss.backward()\r\n",
    "    optimizer.step()\r\n",
    "    # print(loss.item())\r\n",
    "    if epoch % display_step == 0:\r\n",
    "        print(loss.item())\r\n"
   ],
   "outputs": [
    {
     "output_type": "stream",
     "name": "stdout",
     "text": [
      "7.10966682434082\n",
      "0.704510509967804\n",
      "0.5131387710571289\n",
      "0.4699929356575012\n",
      "0.4177611470222473\n",
      "0.3562490940093994\n",
      "0.330177903175354\n",
      "0.2827501893043518\n",
      "0.19757080078125\n",
      "0.14892888069152832\n"
     ]
    }
   ],
   "metadata": {}
  },
  {
   "cell_type": "code",
   "execution_count": 7,
   "source": [
    "x = torch.linspace(0, 1, 50, requires_grad=True).unsqueeze(1)\r\n",
    "y_approx = (f_0 + x * neural_network(x)).squeeze(0).detach().numpy().transpose()[0]\r\n",
    "y_exact = (x**2 + 1).squeeze(0).detach().numpy().transpose()[0]\r\n",
    "x = x.squeeze(0).detach().numpy().transpose()[0]\r\n",
    "plt.plot(x, y_approx, label='NN Approximation')\r\n",
    "plt.plot(x, y_exact, label='Exact Solution')\r\n",
    "plt.legend()"
   ],
   "outputs": [
    {
     "output_type": "execute_result",
     "data": {
      "text/plain": [
       "<matplotlib.legend.Legend at 0x20e50b3cc10>"
      ]
     },
     "metadata": {},
     "execution_count": 7
    },
    {
     "output_type": "display_data",
     "data": {
      "text/plain": [
       "<Figure size 432x288 with 1 Axes>"
      ],
      "image/png": "[encoded data removed]"
     },
     "metadata": {
      "needs_background": "light"
     }
    }
   ],
   "metadata": {}
  },
  {
   "cell_type": "code",
   "execution_count": null,
   "source": [],
   "outputs": [],
   "metadata": {}
  }
 ],
 "metadata": {
  "orig_nbformat": 4,
  "language_info": {
   "name": "python",
   "version": "3.8.3rc1",
   "mimetype": "text/x-python",
   "codemirror_mode": {
    "name": "ipython",
    "version": 3
   },
   "pygments_lexer": "ipython3",
   "nbconvert_exporter": "python",
   "file_extension": ".py"
  },
  "kernelspec": {
   "name": "python3",
   "display_name": "Python 3.8.3rc1 64-bit"
  },
  "interpreter": {
   "hash": "70671254ab969494d1dcff9d1c02cb0fd50aac9a157cc30f2443961e5fa46b91"
  }
 },
 "nbformat": 4,
 "nbformat_minor": 2
}