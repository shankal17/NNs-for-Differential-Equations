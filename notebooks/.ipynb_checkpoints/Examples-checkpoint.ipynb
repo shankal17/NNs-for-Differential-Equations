{
 "cells": [
  {
   "cell_type": "code",
   "execution_count": 1,
   "metadata": {},
   "outputs": [],
   "source": [
    "# Import necessary resources\n",
    "import os\n",
    "import sys\n",
    "import inspect\n",
    "import numpy as np\n",
    "import torch\n",
    "import torch.optim as optim\n",
    "import matplotlib.pyplot as plt\n",
    "%matplotlib inline\n",
    "\n",
    "\n",
    "currentdir = os.path.dirname(os.path.abspath(inspect.getfile(inspect.currentframe())))\n",
    "parentdir = os.path.dirname(currentdir)\n",
    "sys.path.insert(0, os.path.join(parentdir, 'scripts'))\n",
    "\n",
    "import models as m\n",
    "import utils"
   ]
  },
  {
   "cell_type": "markdown",
   "metadata": {},
   "source": [
    "# First-Order ODEs\n",
    "\n",
    "Note that a first-order ODE must be able to be written in the form \n",
    "\n",
    "\\begin{align}\n",
    "\\frac{d}{dx}\\Psi + p(x)\\Psi = g(x)\n",
    "\\end{align}\n",
    "\n",
    "Where both $p(x)$ and $g(x)$ are continuous functions."
   ]
  },
  {
   "cell_type": "markdown",
   "metadata": {},
   "source": [
    "## Example I\n",
    "Consider the first-order ODE:\n",
    "\\begin{align}\n",
    "\\frac{d}{dx}\\Psi + (x+\\frac{1 + 3 x^2}{1 + x+ x^3})\\Psi = x^3 + 2x +x^2\\frac{1 + 3x^2}{1 + x + x^3},\\quad \\Psi(0) = 1 \\quad and \\quad x\\in [0,1]\n",
    "\\end{align}\n",
    "Solve for $\\Psi(x)$\n"
   ]
  },
  {
   "cell_type": "code",
   "execution_count": 5,
   "metadata": {},
   "outputs": [],
   "source": [
    "# Define Differential Equation\n",
    "# Initial condition\n",
    "f_0 = 1\n",
    "\n",
    "# differential equation\n",
    "def g(x):\n",
    "    return x**3 + 2*x + (x**2)*((1+3*x**2)/(1+x+x**3))\n",
    "\n",
    "def p(x):\n",
    "    return x + ((1+3*(x**2))/(1+x+x**3))"
   ]
  },
  {
   "cell_type": "code",
   "execution_count": 6,
   "metadata": {},
   "outputs": [
    {
     "name": "stdout",
     "output_type": "stream",
     "text": [
      "6.5093231201171875\n",
      "0.48920372128486633\n",
      "0.07198688387870789\n",
      "0.062412891536951065\n",
      "0.05132240056991577\n",
      "0.04936061054468155\n",
      "0.0378345362842083\n",
      "0.03119318000972271\n",
      "0.02378513664007187\n",
      "0.025509227067232132\n"
     ]
    }
   ],
   "source": [
    "learning_rate = 0.003\n",
    "epochs = 1000\n",
    "display_step = 100\n",
    "\n",
    "# Define NN\n",
    "neural_network = m.MLP()\n",
    "\n",
    "# Create optimizer\n",
    "optimizer = optim.Adam(neural_network.parameters(), lr=learning_rate)\n",
    "\n",
    "for epoch in range(epochs):\n",
    "    optimizer.zero_grad()\n",
    "    loss = utils.first_order_loss_with_ic(neural_network, p, g, f_0)\n",
    "    loss.backward()\n",
    "    optimizer.step()\n",
    "    # print(loss.item())\n",
    "    if epoch % display_step == 0:\n",
    "        print(loss.item())"
   ]
  },
  {
   "cell_type": "code",
   "execution_count": 7,
   "metadata": {
    "scrolled": true
   },
   "outputs": [
    {
     "data": {
      "text/plain": [
       "<matplotlib.legend.Legend at 0x1d5dc0c5400>"
      ]
     },
     "execution_count": 7,
     "metadata": {},
     "output_type": "execute_result"
    },
    {
     "data": {
      "image/png": "[encoded data removed]",
      "text/plain": [
       "<Figure size 432x288 with 1 Axes>"
      ]
     },
     "metadata": {
      "needs_background": "light"
     },
     "output_type": "display_data"
    }
   ],
   "source": [
    "x = torch.linspace(0, 1, 50, requires_grad=True).unsqueeze(1)\n",
    "y_approx = (f_0 + x * neural_network(x)).squeeze(0).detach().numpy().transpose()[0]\n",
    "y_exact = ((torch.exp(-(x**2)/2)/(1+x+x**3))+x**2).squeeze(0).detach().numpy().transpose()[0]\n",
    "x = x.squeeze(0).detach().numpy().transpose()[0]\n",
    "plt.plot(x, y_approx, label='NN Approximation')\n",
    "plt.plot(x, y_exact, label='Exact Solution')\n",
    "plt.legend()"
   ]
  },
  {
   "cell_type": "markdown",
   "metadata": {},
   "source": [
    "## Example II: More Complicated\n",
    "Consider the first-order ODE:\n",
    "\\begin{align}\n",
    "\\frac{d}{dx}\\Psi + \\frac{1}{5}\\Psi = e^{-\\frac{x}{5}}cos(x),\\quad \\Psi(0) = 0 \\quad and \\quad x\\in [0,10]\n",
    "\\end{align}\n",
    "Solve for $\\Psi(x)$"
   ]
  },
  {
   "cell_type": "code",
   "execution_count": 8,
   "metadata": {},
   "outputs": [],
   "source": [
    "# Define sample problem\n",
    "# Initial condition\n",
    "f_0 = 0\n",
    "\n",
    "# differential equation\n",
    "def g(x):\n",
    "    return torch.exp(-x/5)*torch.cos(x)\n",
    "\n",
    "def p(x):\n",
    "    return 1/5\n",
    "\n",
    "# Domain\n",
    "domain = (0, 6)"
   ]
  },
  {
   "cell_type": "code",
   "execution_count": 9,
   "metadata": {},
   "outputs": [
    {
     "name": "stdout",
     "output_type": "stream",
     "text": [
      "5.921851634979248\n",
      "0.06333978474140167\n",
      "0.017188403755426407\n",
      "0.011580437421798706\n",
      "0.010117428377270699\n",
      "0.020874321460723877\n",
      "0.013394061475992203\n",
      "0.005748686380684376\n",
      "0.022075042128562927\n",
      "0.005784706678241491\n"
     ]
    }
   ],
   "source": [
    "learning_rate = 0.003\n",
    "epochs = 5000\n",
    "display_step = 500\n",
    "\n",
    "# Define NN\n",
    "neural_network = m.MLP()\n",
    "\n",
    "# Create optimizer\n",
    "optimizer = optim.Adam(neural_network.parameters(), lr=learning_rate)\n",
    "\n",
    "for epoch in range(epochs):\n",
    "    optimizer.zero_grad()\n",
    "    loss = utils.first_order_loss_with_ic(neural_network, p, g, f_0, domain[0], domain[1], 20)\n",
    "    loss.backward()\n",
    "    optimizer.step()\n",
    "    # print(loss.item())\n",
    "    if epoch % display_step == 0:\n",
    "        print(loss.item())"
   ]
  },
  {
   "cell_type": "code",
   "execution_count": 10,
   "metadata": {},
   "outputs": [
    {
     "data": {
      "text/plain": [
       "<matplotlib.legend.Legend at 0x1d5dc12f1c0>"
      ]
     },
     "execution_count": 10,
     "metadata": {},
     "output_type": "execute_result"
    },
    {
     "data": {
      "image/png": "[encoded data removed]",
      "text/plain": [
       "<Figure size 432x288 with 1 Axes>"
      ]
     },
     "metadata": {
      "needs_background": "light"
     },
     "output_type": "display_data"
    }
   ],
   "source": [
    "x = torch.linspace(domain[0], domain[1], 100, requires_grad=True).unsqueeze(1)\n",
    "y_approx = (f_0 + x * neural_network(x)).squeeze(0).detach().numpy().transpose()[0]\n",
    "y_exact = (torch.exp(-x/5)*torch.sin(x)).squeeze(0).detach().numpy().transpose()[0]\n",
    "x = x.squeeze(0).detach().numpy().transpose()[0]\n",
    "plt.plot(x, y_approx, label='NN Approximation')\n",
    "plt.plot(x, y_exact, label='Exact Solution')\n",
    "plt.legend()"
   ]
  },
  {
   "cell_type": "markdown",
   "metadata": {},
   "source": [
    "# Second-Order ODEs\n",
    "\n",
    "Note that a second-order ODE must be able to be written in the form \n",
    "\n",
    "\\begin{align}\n",
    "\\frac{d^2}{dx^2}\\Psi + a(x)\\frac{d}{dx}\\Psi + b(x)\\Psi = g(x)\n",
    "\\end{align}\n",
    "\n",
    "Where $a(x)$, $b(x)$, and $g(x)$ are continuous functions."
   ]
  },
  {
   "cell_type": "markdown",
   "metadata": {},
   "source": [
    "## Second-Order Example 1.\n",
    "The method described will be used to approximate the solution $\\Psi(x)$ to the following second-order ODE:\n",
    "\n",
    "\\begin{align}\n",
    "\\frac{d^2}{dx^2}\\Psi + \\frac{1}{5}\\frac{d}{dx}\\Psi + \\Psi= -\\frac{1}{5}e^{-\\frac{x}{5}}cos(x), \\quad \\Psi(0) = 0, \\; \\frac{d}{dx}\\Psi(0)=1 \\quad over \\quad x\\in [0,2]\n",
    "\\end{align}"
   ]
  },
  {
   "cell_type": "code",
   "execution_count": 11,
   "metadata": {},
   "outputs": [],
   "source": [
    "# Define sample problem\n",
    "# Initial condition\n",
    "f_0 = 0\n",
    "f_prime_0 = 1\n",
    "\n",
    "# differential equation\n",
    "def g(x):\n",
    "    result = -(1.0/5.0)*torch.ones_like(x, requires_grad=True)*torch.exp(-x/5.0)*torch.cos(x)\n",
    "#     print(result.requires_grad)\n",
    "    return result\n",
    "\n",
    "def a(x):\n",
    "    result =(1.0/5.0)*torch.ones_like(x, requires_grad=True)\n",
    "#     print(result.requires_grad)\n",
    "    return result\n",
    "\n",
    "def b(x):\n",
    "    return torch.ones_like(x, requires_grad=True)\n",
    "\n",
    "domain = (0, 2)"
   ]
  },
  {
   "cell_type": "code",
   "execution_count": 12,
   "metadata": {},
   "outputs": [
    {
     "name": "stdout",
     "output_type": "stream",
     "text": [
      "63.24591827392578\n",
      "1.3990896940231323\n",
      "0.5923507809638977\n",
      "0.5044746994972229\n",
      "0.3762977719306946\n",
      "0.3536129891872406\n",
      "0.2876780927181244\n",
      "0.15113455057144165\n",
      "0.14972996711730957\n",
      "0.5419094562530518\n",
      "0.11331117153167725\n",
      "0.12796147167682648\n",
      "0.13508619368076324\n",
      "0.17914557456970215\n",
      "0.133964404463768\n",
      "0.12941011786460876\n",
      "0.12181040644645691\n",
      "0.09451949596405029\n",
      "0.18439215421676636\n",
      "0.24913735687732697\n"
     ]
    }
   ],
   "source": [
    "learning_rate = 0.0005\n",
    "epochs = 2000\n",
    "display_step = 100\n",
    "\n",
    "# Define NN\n",
    "neural_network = m.MLP()\n",
    "\n",
    "# Create optimizer\n",
    "optimizer = optim.Adam(neural_network.parameters(), lr=learning_rate)\n",
    "\n",
    "for epoch in range(epochs):\n",
    "    optimizer.zero_grad()\n",
    "    loss = utils.second_order_loss_with_ic(neural_network, a, b, g, f_0, f_prime_0, domain[0], domain[1], 9)\n",
    "    loss.backward()\n",
    "    optimizer.step()\n",
    "    \n",
    "    if epoch % display_step == 0:\n",
    "        print(loss.item())"
   ]
  },
  {
   "cell_type": "code",
   "execution_count": 13,
   "metadata": {},
   "outputs": [
    {
     "data": {
      "text/plain": [
       "<matplotlib.legend.Legend at 0x1d5e51d8100>"
      ]
     },
     "execution_count": 13,
     "metadata": {},
     "output_type": "execute_result"
    },
    {
     "data": {
      "image/png": "[encoded data removed]",
      "text/plain": [
       "<Figure size 432x288 with 1 Axes>"
      ]
     },
     "metadata": {
      "needs_background": "light"
     },
     "output_type": "display_data"
    }
   ],
   "source": [
    "x = torch.linspace(domain[0], domain[1], 100, requires_grad=True).unsqueeze(1)\n",
    "y_approx = (f_0 + x*f_prime_0 + x**2 * neural_network(x)).squeeze(0).detach().numpy().transpose()[0]\n",
    "y_exact = (torch.exp(-x/5)*torch.sin(x)).squeeze(0).detach().numpy().transpose()[0]\n",
    "x = x.squeeze(0).detach().numpy().transpose()[0]\n",
    "plt.plot(x, y_approx, label='NN Approximation')\n",
    "plt.plot(x, y_exact, label='Exact Solution')\n",
    "plt.legend()"
   ]
  },
  {
   "cell_type": "code",
   "execution_count": null,
   "metadata": {},
   "outputs": [],
   "source": []
  }
 ],
 "metadata": {
  "interpreter": {
   "hash": "70671254ab969494d1dcff9d1c02cb0fd50aac9a157cc30f2443961e5fa46b91"
  },
  "kernelspec": {
   "display_name": "Python 3",
   "language": "python",
   "name": "python3"
  },
  "language_info": {
   "codemirror_mode": {
    "name": "ipython",
    "version": 3
   },
   "file_extension": ".py",
   "mimetype": "text/x-python",
   "name": "python",
   "nbconvert_exporter": "python",
   "pygments_lexer": "ipython3",
   "version": "3.8.3rc1"
  }
 },
 "nbformat": 4,
 "nbformat_minor": 2
}
